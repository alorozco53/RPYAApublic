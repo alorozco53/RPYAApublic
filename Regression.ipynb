{
 "cells": [
  {
   "cell_type": "markdown",
   "metadata": {},
   "source": [
    "# Regresión en Scikit-Learn"
   ]
  },
  {
   "cell_type": "code",
   "execution_count": 1,
   "metadata": {
    "collapsed": true
   },
   "outputs": [],
   "source": [
    "%matplotlib inline\n",
    "import numpy as np\n",
    "import matplotlib.pyplot as plt\n",
    "\n",
    "from sklearn.preprocessing import PolynomialFeatures\n",
    "from sklearn.linear_model import LinearRegression\n",
    "from sklearn.linear_model import Ridge\n",
    "from semana2_datos import *"
   ]
  },
  {
   "cell_type": "markdown",
   "metadata": {},
   "source": [
    "## Dataset\n",
    "\n",
    "Cargamos los cuatro conjuntos de datos como arreglos `numpy`. Los datos _reales_ corresponden a mediciones verificadas con algún instrumento. En la práctica esto no se realiza frecuentemente, por lo que es necesario usar estadística para realizar predicciones.\n",
    "\n",
    "Obsérvese que a las `X`'s se les añade una columna con unos dado que asumimos $x_0 \\equiv 1$. Esto con el fin de hacer regresión lineal más adelante."
   ]
  },
  {
   "cell_type": "code",
   "execution_count": 2,
   "metadata": {
    "collapsed": true
   },
   "outputs": [],
   "source": [
    "X_1 = np.array([[1,x] for x, y in data_1])\n",
    "Y_1 = np.array([y for x, y in data_1])\n",
    "\n",
    "X_2 = np.array([[1,x] for x, y in data_2])\n",
    "Y_2 = np.array([y for x, y in data_2])\n",
    "\n",
    "X_3 = np.array([[1,x] for x, y in data_3])\n",
    "Y_3 = np.array([y for x, y in data_3])\n",
    "\n",
    "X_4 = np.array([[1,x] for x, y in data_4])\n",
    "Y_4 = np.array([y for x, y in data_4])\n",
    "\n",
    "X_real = np.array([[1,x] for x, y in data_real])\n",
    "Y_real = np.array([y for x, y in data_real])"
   ]
  },
  {
   "cell_type": "markdown",
   "metadata": {},
   "source": [
    "## Gráficos\n",
    "\n",
    "Ejercicios:\n",
    "- Graficar `data_2`.\n",
    "- Graficar `data_3` y `data_4` en un mismo plano y con distinto color."
   ]
  },
  {
   "cell_type": "code",
   "execution_count": 3,
   "metadata": {},
   "outputs": [
    {
     "data": {
      "text/plain": [
       "<matplotlib.collections.PathCollection at 0x10d219320>"
      ]
     },
     "execution_count": 3,
     "metadata": {},
     "output_type": "execute_result"
    },
    {
     "data": {
      "image/png": "[encoded data removed]",
      "text/plain": [
       "<matplotlib.figure.Figure at 0x10d19ca58>"
      ]
     },
     "metadata": {},
     "output_type": "display_data"
    }
   ],
   "source": [
    "# data_1\n",
    "x_1 = np.array([x for _, x in X_1])\n",
    "plt.scatter(x_1, Y_1)"
   ]
  },
  {
   "cell_type": "markdown",
   "metadata": {},
   "source": [
    "## Modelo a partir de la ecuación normal de mínimos cuadrados\n",
    "\n",
    "$$W = (X^T X)^{-1} X^T Y$$"
   ]
  },
  {
   "cell_type": "code",
   "execution_count": 6,
   "metadata": {},
   "outputs": [
    {
     "name": "stdout",
     "output_type": "stream",
     "text": [
      "Los pesos aprendidos son\n",
      "w0: 585.7518494547396\n",
      "w1: 0.2036782666676823\n"
     ]
    }
   ],
   "source": [
    "# data_1\n",
    "W_1 = np.matmul(np.matmul(np.linalg.inv(np.matmul(X_1.T,\n",
    "                                                  X_1)), X_1.T), Y_1)\n",
    "f1 = lambda X: W_1[1]*X + W_1[0]\n",
    "print('Los pesos aprendidos son\\nw0: {}\\nw1: {}'.format(W_1[0], W_1[1]))"
   ]
  },
  {
   "cell_type": "markdown",
   "metadata": {},
   "source": [
    "Ahora, graficamos la recta contra los datos de entrenamiento"
   ]
  },
  {
   "cell_type": "code",
   "execution_count": 5,
   "metadata": {},
   "outputs": [
    {
     "data": {
      "text/plain": [
       "[<matplotlib.lines.Line2D at 0x10d219470>]"
      ]
     },
     "execution_count": 5,
     "metadata": {},
     "output_type": "execute_result"
    },
    {
     "data": {
      "image/png": "[encoded data removed]",
      "text/plain": [
       "<matplotlib.figure.Figure at 0x10d219be0>"
      ]
     },
     "metadata": {},
     "output_type": "display_data"
    }
   ],
   "source": [
    "# data_1\n",
    "plt.scatter(x_1, Y_1)\n",
    "lower = min(x_1)\n",
    "upper = max(x_1)\n",
    "sample_x1 = np.linspace(lower, upper, num=len(x_1))\n",
    "plt.plot(sample_x1, f1(sample_x1), color='r')"
   ]
  },
  {
   "cell_type": "markdown",
   "metadata": {},
   "source": [
    "Ejercicios:\n",
    "\n",
    "- Ajustar un regresor lineal para `data_2`, `data_3` y `data_4` usando el módulo correspondiente de Scikit-Learn.\n",
    "- Graficar las rectas contra sus respectivos conjuntos de datos. `data_3` y `data_4` deberán de aparecer en el mismo plano con distinción de color."
   ]
  },
  {
   "cell_type": "markdown",
   "metadata": {},
   "source": [
    "## Regresión polinómica y regularizaciones"
   ]
  },
  {
   "cell_type": "code",
   "execution_count": 7,
   "metadata": {
    "collapsed": true
   },
   "outputs": [],
   "source": [
    "# Polynomial regression\n",
    "x_1 = np.expand_dims(x_1, axis=1)\n",
    "poly = PolynomialFeatures(3)\n",
    "features = poly.fit_transform(x_1)"
   ]
  },
  {
   "cell_type": "code",
   "execution_count": 8,
   "metadata": {},
   "outputs": [
    {
     "data": {
      "text/plain": [
       "(50, 4)"
      ]
     },
     "execution_count": 8,
     "metadata": {},
     "output_type": "execute_result"
    }
   ],
   "source": [
    "features.shape"
   ]
  },
  {
   "cell_type": "code",
   "execution_count": 9,
   "metadata": {},
   "outputs": [
    {
     "name": "stderr",
     "output_type": "stream",
     "text": [
      "/Users/alorozco53/anaconda3/lib/python3.5/site-packages/scipy/linalg/basic.py:884: RuntimeWarning: internal gelsd driver lwork query error, required iwork dimension not returned. This is likely the result of LAPACK bug 0038, fixed in LAPACK 3.2.2 (released July 21, 2010). Falling back to 'gelss' driver.\n",
      "  warnings.warn(mesg, RuntimeWarning)\n"
     ]
    },
    {
     "data": {
      "text/plain": [
       "LinearRegression(copy_X=True, fit_intercept=True, n_jobs=1, normalize=False)"
      ]
     },
     "execution_count": 9,
     "metadata": {},
     "output_type": "execute_result"
    }
   ],
   "source": [
    "lin_reg = LinearRegression()\n",
    "lin_reg.fit(features, Y_1)"
   ]
  },
  {
   "cell_type": "code",
   "execution_count": 10,
   "metadata": {
    "collapsed": true
   },
   "outputs": [],
   "source": [
    "sample_x1 = np.expand_dims(sample_x1, axis=1)"
   ]
  },
  {
   "cell_type": "code",
   "execution_count": 11,
   "metadata": {},
   "outputs": [
    {
     "data": {
      "text/plain": [
       "[<matplotlib.lines.Line2D at 0x104a607f0>]"
      ]
     },
     "execution_count": 11,
     "metadata": {},
     "output_type": "execute_result"
    },
    {
     "data": {
      "image/png": "[encoded data removed]",
      "text/plain": [
       "<matplotlib.figure.Figure at 0x104a60940>"
      ]
     },
     "metadata": {},
     "output_type": "display_data"
    }
   ],
   "source": [
    "sample_x1_poly = poly.fit_transform(sample_x1)\n",
    "y1_poly = lin_reg.predict(sample_x1_poly)\n",
    "plt.scatter(x_1, Y_1)\n",
    "plt.plot(sample_x1, y1_poly, color='g')"
   ]
  },
  {
   "cell_type": "markdown",
   "metadata": {},
   "source": [
    "## Regularizadores"
   ]
  },
  {
   "cell_type": "code",
   "execution_count": 12,
   "metadata": {},
   "outputs": [
    {
     "data": {
      "text/plain": [
       "Ridge(alpha=2.5, copy_X=True, fit_intercept=True, max_iter=None,\n",
       "   normalize=False, random_state=None, solver='auto', tol=0.001)"
      ]
     },
     "execution_count": 12,
     "metadata": {},
     "output_type": "execute_result"
    }
   ],
   "source": [
    "# Ridge para x_1\n",
    "ridge = Ridge(alpha=2.5)\n",
    "ridge.fit(features, Y_1)"
   ]
  },
  {
   "cell_type": "code",
   "execution_count": 13,
   "metadata": {},
   "outputs": [
    {
     "data": {
      "text/plain": [
       "[<matplotlib.lines.Line2D at 0x10d64e860>]"
      ]
     },
     "execution_count": 13,
     "metadata": {},
     "output_type": "execute_result"
    },
    {
     "data": {
      "image/png": "[encoded data removed]",
      "text/plain": [
       "<matplotlib.figure.Figure at 0x10d64e828>"
      ]
     },
     "metadata": {},
     "output_type": "display_data"
    }
   ],
   "source": [
    "y1_ridge = ridge.predict(sample_x1_poly)\n",
    "plt.scatter(x_1, Y_1)\n",
    "plt.plot(sample_x1, y1_ridge, color='r')"
   ]
  },
  {
   "cell_type": "markdown",
   "metadata": {},
   "source": [
    "## Varianza esperada y sesgo esperado"
   ]
  },
  {
   "cell_type": "code",
   "execution_count": 14,
   "metadata": {
    "collapsed": true
   },
   "outputs": [],
   "source": [
    "# Expected prediction\n",
    "def E(f_x):\n",
    "    return float(sum(f_x)) / float(len(f_x))"
   ]
  },
  {
   "cell_type": "code",
   "execution_count": 15,
   "metadata": {},
   "outputs": [
    {
     "data": {
      "text/plain": [
       "-80.4679332671908"
      ]
     },
     "execution_count": 15,
     "metadata": {},
     "output_type": "execute_result"
    }
   ],
   "source": [
    "x_real = np.array([x for _, x in X_real])\n",
    "exp_pred_1 = E(f1(x_real))\n",
    "avg_y_real = E(Y_real)\n",
    "avg_y_real - exp_pred_1"
   ]
  },
  {
   "cell_type": "markdown",
   "metadata": {},
   "source": [
    "## Varianza y sesgo"
   ]
  },
  {
   "cell_type": "code",
   "execution_count": null,
   "metadata": {
    "collapsed": true
   },
   "outputs": [],
   "source": [
    "# data 1\n",
    "f1 = W_1[1]*sample_x1 + W_1[0]\n",
    "f1_to_2 = f1 ** 2\n",
    "E11 = E(f1_to_2)\n",
    "E_f1 = E(f1)\n",
    "E12 = E_f1 ** 2"
   ]
  },
  {
   "cell_type": "code",
   "execution_count": null,
   "metadata": {
    "collapsed": true
   },
   "outputs": [],
   "source": [
    "E11 - E12"
   ]
  },
  {
   "cell_type": "code",
   "execution_count": null,
   "metadata": {
    "collapsed": true
   },
   "outputs": [],
   "source": []
  }
 ],
 "metadata": {
  "kernelspec": {
   "display_name": "Python 3",
   "language": "python",
   "name": "python3"
  },
  "language_info": {
   "codemirror_mode": {
    "name": "ipython",
    "version": 3
   },
   "file_extension": ".py",
   "mimetype": "text/x-python",
   "name": "python",
   "nbconvert_exporter": "python",
   "pygments_lexer": "ipython3",
   "version": "3.6.1"
  }
 },
 "nbformat": 4,
 "nbformat_minor": 2
}
